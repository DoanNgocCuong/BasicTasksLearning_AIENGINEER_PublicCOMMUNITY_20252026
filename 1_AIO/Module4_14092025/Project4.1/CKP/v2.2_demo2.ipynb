{
 "cells": [
  {
   "cell_type": "code",
   "execution_count": 2,
   "id": "559cc60e",
   "metadata": {},
   "outputs": [],
   "source": [
    "import pandas as pd\n",
    "import numpy as np\n",
    "import matplotlib.pyplot as plt\n",
    "import seaborn as sns\n",
    "\n"
   ]
  },
  {
   "cell_type": "code",
   "execution_count": null,
   "id": "e6d8c89e",
   "metadata": {},
   "outputs": [
    {
     "name": "stderr",
     "output_type": "stream",
     "text": [
      "C:\\Users\\Lenovo\\AppData\\Local\\Temp\\ipykernel_22540\\1880645951.py:1: DtypeWarning: Columns (0) have mixed types. Specify dtype option on import or set low_memory=False.\n",
      "  df=pd.read_csv(r'D:\\AIO 2025\\MODULE 3\\project module 3\\filtered_datasets\\arxiv_top40_categories.csv')\n"
     ]
    }
   ],
   "source": [
    "df_filtered=pd.read_csv(r'D:\\AIO 2025\\MODULE 3\\project module 3\\filtered_datasets\\arxiv_top40_categories.csv')"
   ]
  },
  {
   "cell_type": "code",
   "execution_count": null,
   "id": "b6444f06",
   "metadata": {},
   "outputs": [],
   "source": [
    "df"
   ]
  },
  {
   "cell_type": "code",
   "execution_count": 5,
   "id": "f3d7f46f",
   "metadata": {},
   "outputs": [
    {
     "name": "stdout",
     "output_type": "stream",
     "text": [
      "<class 'pandas.core.frame.DataFrame'>\n",
      "RangeIndex: 2209622 entries, 0 to 2209621\n",
      "Data columns (total 15 columns):\n",
      " #   Column              Dtype \n",
      "---  ------              ----- \n",
      " 0   id                  object\n",
      " 1   submitter           object\n",
      " 2   authors             object\n",
      " 3   title               object\n",
      " 4   comments            object\n",
      " 5   journal-ref         object\n",
      " 6   doi                 object\n",
      " 7   report-no           object\n",
      " 8   categories          object\n",
      " 9   license             object\n",
      " 10  abstract            object\n",
      " 11  versions            object\n",
      " 12  update_date         object\n",
      " 13  authors_parsed      object\n",
      " 14  categories_cleaned  object\n",
      "dtypes: object(15)\n",
      "memory usage: 252.9+ MB\n"
     ]
    }
   ],
   "source": [
    "df.info()\n"
   ]
  },
  {
   "cell_type": "code",
   "execution_count": 6,
   "id": "df026eda",
   "metadata": {},
   "outputs": [
    {
     "name": "stdout",
     "output_type": "stream",
     "text": [
      "Thông tin DataFrame sau khi lọc:\n",
      "Số dòng: 2209622\n",
      "Số cột: 4\n",
      "Tên các cột: ['authors', 'title', 'abstract', 'categories']\n",
      "\n",
      "Kiểu dữ liệu của từng cột:\n",
      "<class 'pandas.core.frame.DataFrame'>\n",
      "RangeIndex: 2209622 entries, 0 to 2209621\n",
      "Data columns (total 4 columns):\n",
      " #   Column      Dtype \n",
      "---  ------      ----- \n",
      " 0   authors     object\n",
      " 1   title       object\n",
      " 2   abstract    object\n",
      " 3   categories  object\n",
      "dtypes: object(4)\n",
      "memory usage: 67.4+ MB\n"
     ]
    }
   ],
   "source": [
    "# Chỉ giữ lại các cột cần thiết: authors, title, abstract, categories\n",
    "# Sử dụng phương thức .loc để chọn các cột cụ thể\n",
    "df_filtered = df[['authors', 'title', 'abstract', 'categories']]\n",
    "\n",
    "# Hiển thị thông tin về DataFrame đã được lọc\n",
    "print(\"Thông tin DataFrame sau khi lọc:\")\n",
    "print(f\"Số dòng: {len(df_filtered)}\")\n",
    "print(f\"Số cột: {len(df_filtered.columns)}\")\n",
    "print(f\"Tên các cột: {list(df_filtered.columns)}\")\n",
    "print(\"\\nKiểu dữ liệu của từng cột:\")\n",
    "df_filtered.info()\n"
   ]
  },
  {
   "cell_type": "code",
   "execution_count": 7,
   "id": "603bffd0",
   "metadata": {},
   "outputs": [
    {
     "name": "stdout",
     "output_type": "stream",
     "text": [
      "5 dòng đầu tiên của DataFrame đã lọc:\n"
     ]
    },
    {
     "data": {
      "text/html": [
       "<div>\n",
       "<style scoped>\n",
       "    .dataframe tbody tr th:only-of-type {\n",
       "        vertical-align: middle;\n",
       "    }\n",
       "\n",
       "    .dataframe tbody tr th {\n",
       "        vertical-align: top;\n",
       "    }\n",
       "\n",
       "    .dataframe thead th {\n",
       "        text-align: right;\n",
       "    }\n",
       "</style>\n",
       "<table border=\"1\" class=\"dataframe\">\n",
       "  <thead>\n",
       "    <tr style=\"text-align: right;\">\n",
       "      <th></th>\n",
       "      <th>authors</th>\n",
       "      <th>title</th>\n",
       "      <th>abstract</th>\n",
       "      <th>categories</th>\n",
       "    </tr>\n",
       "  </thead>\n",
       "  <tbody>\n",
       "    <tr>\n",
       "      <th>0</th>\n",
       "      <td>C. Bal\\'azs, E. L. Berger, P. M. Nadolsky, C.-...</td>\n",
       "      <td>Calculation of prompt diphoton production cros...</td>\n",
       "      <td>A fully differential calculation in perturba...</td>\n",
       "      <td>hep-ph</td>\n",
       "    </tr>\n",
       "    <tr>\n",
       "      <th>1</th>\n",
       "      <td>Ileana Streinu and Louis Theran</td>\n",
       "      <td>Sparsity-certifying Graph Decompositions</td>\n",
       "      <td>We describe a new algorithm, the $(k,\\ell)$-...</td>\n",
       "      <td>math.CO cs.CG</td>\n",
       "    </tr>\n",
       "    <tr>\n",
       "      <th>2</th>\n",
       "      <td>Hongjun Pan</td>\n",
       "      <td>The evolution of the Earth-Moon system based o...</td>\n",
       "      <td>The evolution of Earth-Moon system is descri...</td>\n",
       "      <td>physics.gen-ph</td>\n",
       "    </tr>\n",
       "    <tr>\n",
       "      <th>3</th>\n",
       "      <td>David Callan</td>\n",
       "      <td>A determinant of Stirling cycle numbers counts...</td>\n",
       "      <td>We show that a determinant of Stirling cycle...</td>\n",
       "      <td>math.CO</td>\n",
       "    </tr>\n",
       "    <tr>\n",
       "      <th>4</th>\n",
       "      <td>Wael Abu-Shammala and Alberto Torchinsky</td>\n",
       "      <td>From dyadic $\\Lambda_{\\alpha}$ to $\\Lambda_{\\a...</td>\n",
       "      <td>In this paper we show how to compute the $\\L...</td>\n",
       "      <td>math.CA math.FA</td>\n",
       "    </tr>\n",
       "  </tbody>\n",
       "</table>\n",
       "</div>"
      ],
      "text/plain": [
       "                                             authors  \\\n",
       "0  C. Bal\\'azs, E. L. Berger, P. M. Nadolsky, C.-...   \n",
       "1                    Ileana Streinu and Louis Theran   \n",
       "2                                        Hongjun Pan   \n",
       "3                                       David Callan   \n",
       "4           Wael Abu-Shammala and Alberto Torchinsky   \n",
       "\n",
       "                                               title  \\\n",
       "0  Calculation of prompt diphoton production cros...   \n",
       "1           Sparsity-certifying Graph Decompositions   \n",
       "2  The evolution of the Earth-Moon system based o...   \n",
       "3  A determinant of Stirling cycle numbers counts...   \n",
       "4  From dyadic $\\Lambda_{\\alpha}$ to $\\Lambda_{\\a...   \n",
       "\n",
       "                                            abstract       categories  \n",
       "0    A fully differential calculation in perturba...           hep-ph  \n",
       "1    We describe a new algorithm, the $(k,\\ell)$-...    math.CO cs.CG  \n",
       "2    The evolution of Earth-Moon system is descri...   physics.gen-ph  \n",
       "3    We show that a determinant of Stirling cycle...          math.CO  \n",
       "4    In this paper we show how to compute the $\\L...  math.CA math.FA  "
      ]
     },
     "execution_count": 7,
     "metadata": {},
     "output_type": "execute_result"
    }
   ],
   "source": [
    "# Hiển thị 5 dòng đầu tiên của DataFrame đã được lọc\n",
    "print(\"5 dòng đầu tiên của DataFrame đã lọc:\")\n",
    "df_filtered.head()\n"
   ]
  },
  {
   "cell_type": "markdown",
   "id": "8f6d42a3",
   "metadata": {},
   "source": [
    "## categories statistic:"
   ]
  },
  {
   "cell_type": "code",
   "execution_count": 8,
   "id": "75bd0805",
   "metadata": {},
   "outputs": [
    {
     "name": "stderr",
     "output_type": "stream",
     "text": [
      "C:\\Users\\Lenovo\\AppData\\Local\\Temp\\ipykernel_22540\\3256232416.py:2: SettingWithCopyWarning: \n",
      "A value is trying to be set on a copy of a slice from a DataFrame.\n",
      "Try using .loc[row_indexer,col_indexer] = value instead\n",
      "\n",
      "See the caveats in the documentation: https://pandas.pydata.org/pandas-docs/stable/user_guide/indexing.html#returning-a-view-versus-a-copy\n",
      "  df_filtered['main_categories'] = df_filtered['categories'].str.split('.').str[0]\n"
     ]
    }
   ],
   "source": [
    "# 2. Tạo cột mới 'main_categories' bằng cách loại bỏ hậu tố sau dấu \".\"\n",
    "df_filtered['main_categories'] = df_filtered['categories'].str.split('.').str[0]"
   ]
  },
  {
   "cell_type": "code",
   "execution_count": 10,
   "id": "c4252970",
   "metadata": {},
   "outputs": [
    {
     "data": {
      "text/html": [
       "<div>\n",
       "<style scoped>\n",
       "    .dataframe tbody tr th:only-of-type {\n",
       "        vertical-align: middle;\n",
       "    }\n",
       "\n",
       "    .dataframe tbody tr th {\n",
       "        vertical-align: top;\n",
       "    }\n",
       "\n",
       "    .dataframe thead th {\n",
       "        text-align: right;\n",
       "    }\n",
       "</style>\n",
       "<table border=\"1\" class=\"dataframe\">\n",
       "  <thead>\n",
       "    <tr style=\"text-align: right;\">\n",
       "      <th></th>\n",
       "      <th>authors</th>\n",
       "      <th>title</th>\n",
       "      <th>abstract</th>\n",
       "      <th>categories</th>\n",
       "      <th>main_categories</th>\n",
       "    </tr>\n",
       "  </thead>\n",
       "  <tbody>\n",
       "    <tr>\n",
       "      <th>0</th>\n",
       "      <td>C. Bal\\'azs, E. L. Berger, P. M. Nadolsky, C.-...</td>\n",
       "      <td>Calculation of prompt diphoton production cros...</td>\n",
       "      <td>A fully differential calculation in perturba...</td>\n",
       "      <td>hep-ph</td>\n",
       "      <td>hep-ph</td>\n",
       "    </tr>\n",
       "    <tr>\n",
       "      <th>1</th>\n",
       "      <td>Ileana Streinu and Louis Theran</td>\n",
       "      <td>Sparsity-certifying Graph Decompositions</td>\n",
       "      <td>We describe a new algorithm, the $(k,\\ell)$-...</td>\n",
       "      <td>math.CO cs.CG</td>\n",
       "      <td>math</td>\n",
       "    </tr>\n",
       "    <tr>\n",
       "      <th>2</th>\n",
       "      <td>Hongjun Pan</td>\n",
       "      <td>The evolution of the Earth-Moon system based o...</td>\n",
       "      <td>The evolution of Earth-Moon system is descri...</td>\n",
       "      <td>physics.gen-ph</td>\n",
       "      <td>physics</td>\n",
       "    </tr>\n",
       "    <tr>\n",
       "      <th>3</th>\n",
       "      <td>David Callan</td>\n",
       "      <td>A determinant of Stirling cycle numbers counts...</td>\n",
       "      <td>We show that a determinant of Stirling cycle...</td>\n",
       "      <td>math.CO</td>\n",
       "      <td>math</td>\n",
       "    </tr>\n",
       "    <tr>\n",
       "      <th>4</th>\n",
       "      <td>Wael Abu-Shammala and Alberto Torchinsky</td>\n",
       "      <td>From dyadic $\\Lambda_{\\alpha}$ to $\\Lambda_{\\a...</td>\n",
       "      <td>In this paper we show how to compute the $\\L...</td>\n",
       "      <td>math.CA math.FA</td>\n",
       "      <td>math</td>\n",
       "    </tr>\n",
       "  </tbody>\n",
       "</table>\n",
       "</div>"
      ],
      "text/plain": [
       "                                             authors  \\\n",
       "0  C. Bal\\'azs, E. L. Berger, P. M. Nadolsky, C.-...   \n",
       "1                    Ileana Streinu and Louis Theran   \n",
       "2                                        Hongjun Pan   \n",
       "3                                       David Callan   \n",
       "4           Wael Abu-Shammala and Alberto Torchinsky   \n",
       "\n",
       "                                               title  \\\n",
       "0  Calculation of prompt diphoton production cros...   \n",
       "1           Sparsity-certifying Graph Decompositions   \n",
       "2  The evolution of the Earth-Moon system based o...   \n",
       "3  A determinant of Stirling cycle numbers counts...   \n",
       "4  From dyadic $\\Lambda_{\\alpha}$ to $\\Lambda_{\\a...   \n",
       "\n",
       "                                            abstract       categories  \\\n",
       "0    A fully differential calculation in perturba...           hep-ph   \n",
       "1    We describe a new algorithm, the $(k,\\ell)$-...    math.CO cs.CG   \n",
       "2    The evolution of Earth-Moon system is descri...   physics.gen-ph   \n",
       "3    We show that a determinant of Stirling cycle...          math.CO   \n",
       "4    In this paper we show how to compute the $\\L...  math.CA math.FA   \n",
       "\n",
       "  main_categories  \n",
       "0          hep-ph  \n",
       "1            math  \n",
       "2         physics  \n",
       "3            math  \n",
       "4            math  "
      ]
     },
     "execution_count": 10,
     "metadata": {},
     "output_type": "execute_result"
    }
   ],
   "source": [
    "df_filtered.head(5)"
   ]
  },
  {
   "cell_type": "code",
   "execution_count": 14,
   "id": "33af582f",
   "metadata": {},
   "outputs": [
    {
     "data": {
      "text/plain": [
       "main_categories\n",
       "math                     461568\n",
       "cs                       431766\n",
       "cond-mat                 295232\n",
       "astro-ph                 278463\n",
       "physics                  163944\n",
       "hep-ph                    79303\n",
       "quant-ph                  64677\n",
       "hep-th                    57406\n",
       "stat                      43860\n",
       "eess                      39346\n",
       "gr-qc                     29167\n",
       "q-bio                     25996\n",
       "math-ph math              22430\n",
       "nucl-th                   18899\n",
       "nlin                      18280\n",
       "hep-ex                    17133\n",
       "quant-ph cond-mat         13625\n",
       "hep-ph hep-ex             12209\n",
       "gr-qc astro-ph            12122\n",
       "hep-th gr-qc              10568\n",
       "q-fin                     10223\n",
       "hep-lat                    9959\n",
       "gr-qc hep-th               9406\n",
       "hep-ph astro-ph            9203\n",
       "nucl-ex                    7322\n",
       "quant-ph physics           6876\n",
       "hep-ph nucl-th             6413\n",
       "econ                       5708\n",
       "hep-th cond-mat            5609\n",
       "hep-ph hep-th              5414\n",
       "hep-th hep-ph              5258\n",
       "quant-ph cs                5111\n",
       "hep-th math-ph math        4965\n",
       "nucl-th hep-ph             3828\n",
       "hep-th astro-ph            3375\n",
       "quant-ph math-ph math      3343\n",
       "math-ph hep-th math        3341\n",
       "math-ph cond-mat           2853\n",
       "hep-th math                2828\n",
       "nucl-th nucl-ex            2593\n",
       "Name: count, dtype: int64"
      ]
     },
     "execution_count": 14,
     "metadata": {},
     "output_type": "execute_result"
    }
   ],
   "source": [
    "df_filtered['main_categories'].value_counts()"
   ]
  },
  {
   "cell_type": "code",
   "execution_count": null,
   "id": "5c5e49fe",
   "metadata": {},
   "outputs": [],
   "source": [
    "# GOM NHÓM MAIN_CATEGORIES VỚI MAPPING\n",
    "# ====================================\n",
    "\n",
    "# 1. Định nghĩa mapping từ keywords đến nhóm cuối cùng\n",
    "keywords_mapping = {\n",
    "    \"physics\": [\"hep-ph\", \"quant-ph\", \"hep-th\", \"gr-qc\", \"nucl-th\", \"hep-ex\", \"astro-ph\", \"cond-mat\", \"nlin\", \"physics\", \"hep-lat\", \"nucl-ex\"],\n",
    "    \"math\": [\"math\", \"math-ph\", \"stat\"],\n",
    "    \"q-bio\": [\"q-bio\"],\n",
    "    \"econ\": [\"econ\", \"q-fin\"],\n",
    "    \"cs\": [\"eess\", \"cs\"]\n",
    "}\n",
    "\n",
    "# 2. Tạo hàm gom nhóm dựa trên mapping\n",
    "def map_to_final_category(main_categories):\n",
    "    \"\"\"\n",
    "    Hàm gom nhóm main_category thành final_main_category dựa trên keywords_mapping\n",
    "    \"\"\"\n",
    "    if pd.isna(main_categories):\n",
    "        return 'unknown'\n",
    "    \n",
    "    # Chuyển thành chuỗi và viết thường để so sánh\n",
    "    category_str = str(main_categories).lower()\n",
    "    \n",
    "    # Kiểm tra từng nhóm trong mapping\n",
    "    for final_group, keywords in keywords_mapping.items():\n",
    "        # Kiểm tra xem có bất kỳ keyword nào xuất hiện trong category không\n",
    "        for keyword in keywords:\n",
    "            if keyword in category_str:\n",
    "                return final_group\n",
    "    \n",
    "    # Nếu không tìm thấy keyword nào, trả về 'other'\n",
    "    return 'other'\n",
    "\n",
    "# 3. Áp dụng hàm mapping\n",
    "print(\"=== TẠO CỘT FINAL_MAIN_CATEGORIES ===\")\n",
    "df_filtered['final_main_categories'] = df_filtered['main_categories'].apply(map_to_final_category)\n",
    "\n",
    "# 4. Hiển thị kết quả\n",
    "print(\"=== THỐNG KÊ SAU KHI GOM NHÓM ===\")\n",
    "print(f\"Số main_categories gốc: {df_filtered['main_categories'].nunique()}\")\n",
    "print(f\"Số final_main_categories: {df_filtered['final_main_categories'].nunique()}\")\n",
    "print()\n",
    "# 5. Hiển thị phân bố final_main_categories\n",
    "print(\"=== PHÂN BỐ FINAL_MAIN_CATEGORIES ===\")\n",
    "final_counts = df_filtered['final_main_categories'].value_counts()\n",
    "for category, count in final_counts.items():\n",
    "    percentage = (count / len(df_filtered)) * 100\n",
    "    print(f\"{category:<15}: {count:>8,} ({percentage:>5.1f}%)\")\n",
    "print()"
   ]
  },
  {
   "cell_type": "code",
   "execution_count": 22,
   "id": "8911feb7",
   "metadata": {},
   "outputs": [
    {
     "data": {
      "text/html": [
       "<div>\n",
       "<style scoped>\n",
       "    .dataframe tbody tr th:only-of-type {\n",
       "        vertical-align: middle;\n",
       "    }\n",
       "\n",
       "    .dataframe tbody tr th {\n",
       "        vertical-align: top;\n",
       "    }\n",
       "\n",
       "    .dataframe thead th {\n",
       "        text-align: right;\n",
       "    }\n",
       "</style>\n",
       "<table border=\"1\" class=\"dataframe\">\n",
       "  <thead>\n",
       "    <tr style=\"text-align: right;\">\n",
       "      <th></th>\n",
       "      <th>authors</th>\n",
       "      <th>title</th>\n",
       "      <th>abstract</th>\n",
       "      <th>categories</th>\n",
       "      <th>main_categories</th>\n",
       "      <th>final_main_categories</th>\n",
       "    </tr>\n",
       "  </thead>\n",
       "  <tbody>\n",
       "    <tr>\n",
       "      <th>0</th>\n",
       "      <td>C. Bal\\'azs, E. L. Berger, P. M. Nadolsky, C.-...</td>\n",
       "      <td>Calculation of prompt diphoton production cros...</td>\n",
       "      <td>A fully differential calculation in perturba...</td>\n",
       "      <td>hep-ph</td>\n",
       "      <td>hep-ph</td>\n",
       "      <td>physics</td>\n",
       "    </tr>\n",
       "    <tr>\n",
       "      <th>1</th>\n",
       "      <td>Ileana Streinu and Louis Theran</td>\n",
       "      <td>Sparsity-certifying Graph Decompositions</td>\n",
       "      <td>We describe a new algorithm, the $(k,\\ell)$-...</td>\n",
       "      <td>math.CO cs.CG</td>\n",
       "      <td>math</td>\n",
       "      <td>math</td>\n",
       "    </tr>\n",
       "    <tr>\n",
       "      <th>2</th>\n",
       "      <td>Hongjun Pan</td>\n",
       "      <td>The evolution of the Earth-Moon system based o...</td>\n",
       "      <td>The evolution of Earth-Moon system is descri...</td>\n",
       "      <td>physics.gen-ph</td>\n",
       "      <td>physics</td>\n",
       "      <td>physics</td>\n",
       "    </tr>\n",
       "  </tbody>\n",
       "</table>\n",
       "</div>"
      ],
      "text/plain": [
       "                                             authors  \\\n",
       "0  C. Bal\\'azs, E. L. Berger, P. M. Nadolsky, C.-...   \n",
       "1                    Ileana Streinu and Louis Theran   \n",
       "2                                        Hongjun Pan   \n",
       "\n",
       "                                               title  \\\n",
       "0  Calculation of prompt diphoton production cros...   \n",
       "1           Sparsity-certifying Graph Decompositions   \n",
       "2  The evolution of the Earth-Moon system based o...   \n",
       "\n",
       "                                            abstract      categories  \\\n",
       "0    A fully differential calculation in perturba...          hep-ph   \n",
       "1    We describe a new algorithm, the $(k,\\ell)$-...   math.CO cs.CG   \n",
       "2    The evolution of Earth-Moon system is descri...  physics.gen-ph   \n",
       "\n",
       "  main_categories final_main_categories  \n",
       "0          hep-ph               physics  \n",
       "1            math                  math  \n",
       "2         physics               physics  "
      ]
     },
     "execution_count": 22,
     "metadata": {},
     "output_type": "execute_result"
    }
   ],
   "source": [
    "df_filtered.head(3)"
   ]
  },
  {
   "cell_type": "code",
   "execution_count": 24,
   "id": "26c76101",
   "metadata": {},
   "outputs": [
    {
     "data": {
      "text/plain": [
       "final_main_categories\n",
       "physics    1168725\n",
       "math        527858\n",
       "cs          471112\n",
       "q-bio        25996\n",
       "econ         15931\n",
       "Name: count, dtype: int64"
      ]
     },
     "execution_count": 24,
     "metadata": {},
     "output_type": "execute_result"
    }
   ],
   "source": [
    "df_filtered['final_main_categories'].value_counts()"
   ]
  }
 ],
 "metadata": {
  "kernelspec": {
   "display_name": "ProjectM3",
   "language": "python",
   "name": "python3"
  },
  "language_info": {
   "codemirror_mode": {
    "name": "ipython",
    "version": 3
   },
   "file_extension": ".py",
   "mimetype": "text/x-python",
   "name": "python",
   "nbconvert_exporter": "python",
   "pygments_lexer": "ipython3",
   "version": "3.10.18"
  }
 },
 "nbformat": 4,
 "nbformat_minor": 5
}
