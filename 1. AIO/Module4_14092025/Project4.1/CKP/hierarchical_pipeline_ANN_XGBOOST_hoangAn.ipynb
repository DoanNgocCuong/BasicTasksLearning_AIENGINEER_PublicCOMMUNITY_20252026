{
 "cells": [
  {
   "cell_type": "markdown",
   "id": "6b6f7506",
   "metadata": {},
   "source": [
    "\n",
    "# Hierarchical 2-stage pipeline (parent -> children)\n",
    "Notebook tách từ script gốc, để chạy thử trên Colab.\n"
   ]
  },
  {
   "cell_type": "code",
   "execution_count": 1,
   "id": "130c9e7d",
   "metadata": {},
   "outputs": [],
   "source": [
    "\n",
    "import numpy as np\n",
    "from sklearn.feature_extraction.text import TfidfVectorizer\n",
    "from sklearn.preprocessing import MultiLabelBinarizer\n",
    "from sklearn.multiclass import OneVsRestClassifier\n",
    "from sklearn.linear_model import LogisticRegression\n",
    "import warnings\n",
    "warnings.filterwarnings(\"ignore\")\n",
    "\n",
    "# faiss optional\n",
    "try:\n",
    "    import faiss\n",
    "    FAISS_AVAILABLE = True\n",
    "except Exception:\n",
    "    FAISS_AVAILABLE = False\n",
    "    from sklearn.neighbors import NearestNeighbors\n"
   ]
  },
  {
   "cell_type": "code",
   "execution_count": 12,
   "id": "0e6f667c",
   "metadata": {},
   "outputs": [
    {
     "name": "stdout",
     "output_type": "stream",
     "text": [
      "['Math', 'CS']\n",
      "['ComputerScience', 'Science']\n",
      "['Physics', 'Chemistry']\n",
      "['Science']\n",
      "['Literature', 'History']\n",
      "['Arts']\n",
      "['Biology', 'Chemistry']\n",
      "['Science']\n",
      "['Math', 'Statistics']\n",
      "['Science']\n",
      "['CS', 'AI']\n",
      "['ComputerScience']\n",
      "['Art', 'Design']\n",
      "['Arts']\n",
      "['Economics', 'Finance']\n",
      "['Business']\n"
     ]
    }
   ],
   "source": [
    "\n",
    "X_texts = [\n",
    "    \"student likes math and programming\",\n",
    "    \"student loves physics and chemistry\",\n",
    "    \"student enjoys literature and history\",\n",
    "    \"student interested in biology and chemistry\",\n",
    "    \"student good at math and statistics\",\n",
    "    \"student passionate about computer science and ai\",\n",
    "    \"student loves art and design\",\n",
    "    \"student enjoys economics and finance\"\n",
    "]\n",
    "\n",
    "y_children = [\n",
    "    [\"Math\", \"CS\"],\n",
    "    [\"Physics\", \"Chemistry\"],\n",
    "    [\"Literature\", \"History\"],\n",
    "    [\"Biology\", \"Chemistry\"],\n",
    "    [\"Math\", \"Statistics\"],\n",
    "    [\"CS\", \"AI\"],\n",
    "    [\"Art\", \"Design\"],\n",
    "    [\"Economics\", \"Finance\"]\n",
    "]\n",
    "\n",
    "child2parent = {\n",
    "    \"Math\": \"Science\", \"Physics\": \"Science\", \"Chemistry\": \"Science\",\n",
    "    \"Biology\": \"Science\", \"Statistics\": \"Science\",\n",
    "    \"Literature\": \"Arts\", \"History\": \"Arts\", \"Art\": \"Arts\", \"Design\": \"Arts\",\n",
    "    \"Economics\": \"Business\", \"Finance\": \"Business\",\n",
    "    \"CS\": \"ComputerScience\", \"AI\": \"ComputerScience\"\n",
    "}\n",
    "\n",
    "# derive parent labels from child labels\n",
    "y_parents = []\n",
    "for childs in y_children:\n",
    "    print(childs)\n",
    "    parents = sorted({ child2parent[c] for c in childs })\n",
    "    print(parents)\n",
    "    y_parents.append(parents)\n"
   ]
  },
  {
   "cell_type": "code",
   "execution_count": 9,
   "id": "de59c1c0",
   "metadata": {},
   "outputs": [
    {
     "name": "stdout",
     "output_type": "stream",
     "text": [
      "[['ComputerScience', 'Science'], ['Science'], ['Arts'], ['Science'], ['Science'], ['ComputerScience'], ['Arts'], ['Business']]\n"
     ]
    }
   ],
   "source": [
    "print(y_parents)"
   ]
  },
  {
   "cell_type": "code",
   "execution_count": 13,
   "id": "2d2d98e8",
   "metadata": {},
   "outputs": [
    {
     "name": "stdout",
     "output_type": "stream",
     "text": [
      "Parents: ['Arts', 'Business', 'ComputerScience', 'Science']\n",
      "Children: ['AI', 'Art', 'Biology', 'CS', 'Chemistry', 'Design', 'Economics', 'Finance', 'History', 'Literature', 'Math', 'Physics', 'Statistics']\n",
      "Y_parents shape: (8, 4) Y_children shape: (8, 13)\n",
      "Parent -> child names:\n",
      "  ComputerScience: ['AI', 'CS']\n",
      "  Arts: ['Art', 'Design', 'History', 'Literature']\n",
      "  Science: ['Biology', 'Chemistry', 'Math', 'Physics', 'Statistics']\n",
      "  Business: ['Economics', 'Finance']\n"
     ]
    }
   ],
   "source": [
    "\n",
    "mlb_parents = MultiLabelBinarizer()\n",
    "Y_parents = mlb_parents.fit_transform(y_parents)\n",
    "parent_names = list(mlb_parents.classes_)\n",
    "\n",
    "mlb_children = MultiLabelBinarizer()\n",
    "Y_children = mlb_children.fit_transform(y_children)\n",
    "child_names = list(mlb_children.classes_)\n",
    "\n",
    "print(\"Parents:\", parent_names)\n",
    "print(\"Children:\", child_names)\n",
    "print(\"Y_parents shape:\", Y_parents.shape, \"Y_children shape:\", Y_children.shape)\n",
    "\n",
    "parent_to_children = {}\n",
    "for c in child_names:\n",
    "    p = child2parent[c]\n",
    "    parent_to_children.setdefault(p, []).append(c)\n",
    "\n",
    "child_name_to_idx = {name: i for i, name in enumerate(child_names)}\n",
    "parent_child_indices = {\n",
    "    p: [ child_name_to_idx[c] for c in parent_to_children[p] ] for p in parent_to_children\n",
    "}\n",
    "\n",
    "print(\"Parent -> child names:\")\n",
    "for p, childs in parent_to_children.items():\n",
    "    print(f\"  {p}: {childs}\")\n"
   ]
  },
  {
   "cell_type": "code",
   "execution_count": 4,
   "id": "17f5ddf4",
   "metadata": {},
   "outputs": [
    {
     "name": "stdout",
     "output_type": "stream",
     "text": [
      "FAISS not available — using sklearn NearestNeighbors fallback.\n"
     ]
    }
   ],
   "source": [
    "\n",
    "vectorizer = TfidfVectorizer(max_features=5000)\n",
    "X_vec = vectorizer.fit_transform(X_texts).toarray().astype('float32')\n",
    "\n",
    "if FAISS_AVAILABLE:\n",
    "    d = X_vec.shape[1]\n",
    "    faiss_index = faiss.IndexFlatL2(d)\n",
    "    faiss_index.add(X_vec)\n",
    "    print(\"FAISS index created. d=\", d)\n",
    "else:\n",
    "    nn_index = NearestNeighbors(n_neighbors=min(10, len(X_vec)), metric='euclidean').fit(X_vec)\n",
    "    print(\"FAISS not available — using sklearn NearestNeighbors fallback.\")\n"
   ]
  },
  {
   "cell_type": "code",
   "execution_count": 5,
   "id": "86febc45",
   "metadata": {},
   "outputs": [
    {
     "name": "stdout",
     "output_type": "stream",
     "text": [
      "Parent classifier trained. Classes: ['Arts', 'Business', 'ComputerScience', 'Science']\n"
     ]
    }
   ],
   "source": [
    "\n",
    "parent_clf = OneVsRestClassifier(LogisticRegression(max_iter=1000))\n",
    "parent_clf.fit(X_vec, Y_parents)\n",
    "print(\"Parent classifier trained. Classes:\", parent_names)\n"
   ]
  },
  {
   "cell_type": "code",
   "execution_count": 6,
   "id": "9db5f3c7",
   "metadata": {},
   "outputs": [
    {
     "name": "stdout",
     "output_type": "stream",
     "text": [
      "Trained child clf for parent Arts — children columns: [1, 5, 8, 9]\n",
      "[WARN] Parent Business has 1 positive samples -> no child classifier trained.\n",
      "Trained child clf for parent ComputerScience — children columns: [0, 3]\n",
      "Trained child clf for parent Science — children columns: [2, 4, 10, 11, 12]\n"
     ]
    }
   ],
   "source": [
    "\n",
    "child_clfs = {}\n",
    "for i, p in enumerate(parent_names):\n",
    "    idx_pos = np.where(Y_parents[:, i] == 1)[0]\n",
    "    if len(idx_pos) < 2:\n",
    "        child_clfs[p] = None\n",
    "        print(f\"[WARN] Parent {p} has {len(idx_pos)} positive samples -> no child classifier trained.\")\n",
    "        continue\n",
    "\n",
    "    X_sub = X_vec[idx_pos]\n",
    "    cols = parent_child_indices[p]\n",
    "    y_sub = Y_children[idx_pos][:, cols]\n",
    "\n",
    "    clf = OneVsRestClassifier(LogisticRegression(max_iter=1000))\n",
    "    clf.fit(X_sub, y_sub)\n",
    "    child_clfs[p] = (clf, cols)\n",
    "    print(f\"Trained child clf for parent {p} — children columns: {cols}\")\n"
   ]
  },
  {
   "cell_type": "code",
   "execution_count": 7,
   "id": "030fe283",
   "metadata": {},
   "outputs": [],
   "source": [
    "\n",
    "def predict_hierarchical(text, parent_threshold=0.4, child_threshold=0.5, k=3, alpha=0.6):\n",
    "    xq = vectorizer.transform([text]).toarray().astype('float32')\n",
    "\n",
    "    parent_probs_clf = parent_clf.predict_proba(xq).reshape(-1)\n",
    "\n",
    "    if FAISS_AVAILABLE:\n",
    "        D, I = faiss_index.search(xq, k)\n",
    "    else:\n",
    "        k2 = min(k, len(X_vec))\n",
    "        D, I = nn_index.kneighbors(xq, n_neighbors=k2)\n",
    "\n",
    "    neigh_idx = I[0] if I is not None else np.array([], dtype=int)\n",
    "    if len(neigh_idx) > 0:\n",
    "        neigh_parent_mean = Y_parents[neigh_idx].mean(axis=0)\n",
    "    else:\n",
    "        neigh_parent_mean = np.zeros_like(parent_probs_clf)\n",
    "\n",
    "    parent_probs = alpha * parent_probs_clf + (1.0 - alpha) * neigh_parent_mean\n",
    "\n",
    "    active_parents = [ (parent_names[i], float(parent_probs[i])) for i in range(len(parent_names)) if parent_probs[i] >= parent_threshold ]\n",
    "\n",
    "    predicted_children = []\n",
    "    children_probs = {}\n",
    "    for pname, pprob in active_parents:\n",
    "        clf_info = child_clfs.get(pname)\n",
    "        if clf_info is None:\n",
    "            cols = parent_child_indices[pname]\n",
    "            if len(neigh_idx) > 0:\n",
    "                neigh_child_mean = Y_children[neigh_idx][:, cols].mean(axis=0)\n",
    "                for j, cidx in enumerate(cols):\n",
    "                    if neigh_child_mean[j] >= child_threshold:\n",
    "                        predicted_children.append(child_names[cidx])\n",
    "                        children_probs[child_names[cidx]] = float(neigh_child_mean[j])\n",
    "            continue\n",
    "\n",
    "        clf, cols = clf_info\n",
    "        probs = clf.predict_proba(xq)\n",
    "        probs = np.array(probs).reshape(-1)\n",
    "        for j, child_col_idx in enumerate(cols):\n",
    "            prob = float(probs[j])\n",
    "            if prob >= child_threshold:\n",
    "                predicted_children.append(child_names[child_col_idx])\n",
    "            children_probs[child_names[child_col_idx]] = prob\n",
    "\n",
    "    result = {\n",
    "        \"parent_probs\": { parent_names[i]: float(parent_probs[i]) for i in range(len(parent_names)) },\n",
    "        \"active_parents\": active_parents,\n",
    "        \"predicted_children\": sorted(list(set(predicted_children))),\n",
    "        \"children_probs\": children_probs,\n",
    "        \"nearest_neighbor_indices\": neigh_idx.tolist()\n",
    "    }\n",
    "    return result\n"
   ]
  },
  {
   "cell_type": "code",
   "execution_count": 8,
   "id": "d8da6b4c",
   "metadata": {},
   "outputs": [
    {
     "name": "stdout",
     "output_type": "stream",
     "text": [
      "Parent probabilities:\n",
      "  Arts            : 0.130\n",
      "  Business        : 0.064\n",
      "  ComputerScience : 0.302\n",
      "  Science         : 0.742\n",
      "Active parents (>= threshold): [('ComputerScience', 0.30207953067762994), ('Science', 0.7423300428252578)]\n",
      "Predicted child labels: ['AI', 'CS', 'Chemistry', 'Math']\n",
      "Child probabilities: {'AI': 0.4749309404638527, 'CS': 1.0, 'Biology': 0.20434192930355896, 'Chemistry': 0.42560356781608344, 'Math': 0.5743964321839166, 'Physics': 0.23156395653002587, 'Statistics': 0.2880086673034899}\n",
      "Nearest neighbor indices: [4, 0, 1]\n"
     ]
    }
   ],
   "source": [
    "\n",
    "q = \"this student is very good at math and loves programming and ai\"\n",
    "out = predict_hierarchical(q, parent_threshold=0.3, child_threshold=0.4, k=3, alpha=0.6)\n",
    "\n",
    "print(\"Parent probabilities:\")\n",
    "for p, pr in out[\"parent_probs\"].items():\n",
    "    print(f\"  {p:16s}: {pr:.3f}\")\n",
    "print(\"Active parents (>= threshold):\", out[\"active_parents\"])\n",
    "print(\"Predicted child labels:\", out[\"predicted_children\"])\n",
    "print(\"Child probabilities:\", out[\"children_probs\"])\n",
    "print(\"Nearest neighbor indices:\", out[\"nearest_neighbor_indices\"])\n"
   ]
  },
  {
   "cell_type": "markdown",
   "id": "2f12d53a",
   "metadata": {},
   "source": [
    "\n",
    "### Notes & tuning\n",
    "- Nếu không có `faiss` thì fallback `NearestNeighbors` vẫn chạy được.\n",
    "- Có thể chỉnh `parent_threshold`, `child_threshold`, `k`, `alpha` để thay đổi hành vi dự đoán.\n",
    "- Với dữ liệu thực cần train/test split và cross-validation trước khi chốt ngưỡng.\n",
    "- Có thể lưu `vectorizer` và classifier bằng `joblib` để tái sử dụng.\n"
   ]
  }
 ],
 "metadata": {
  "kernelspec": {
   "display_name": "Python 3",
   "language": "python",
   "name": "python3"
  },
  "language_info": {
   "codemirror_mode": {
    "name": "ipython",
    "version": 3
   },
   "file_extension": ".py",
   "mimetype": "text/x-python",
   "name": "python",
   "nbconvert_exporter": "python",
   "pygments_lexer": "ipython3",
   "version": "3.12.10"
  }
 },
 "nbformat": 4,
 "nbformat_minor": 5
}
